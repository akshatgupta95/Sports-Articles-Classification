{
 "cells": [
  {
   "cell_type": "markdown",
   "metadata": {},
   "source": [
    "# Sports Articles Predictive Classifier\n",
    "\n",
    "Dataset has been obtained from [BBC Sports Dataset](http://mlg.ucd.ie/datasets/bbc.html)\n",
    "\n",
    "Through this corpus, we will try to predict which category/sport a particular sports article belongs."
   ]
  },
  {
   "cell_type": "code",
   "execution_count": 45,
   "metadata": {
    "collapsed": true
   },
   "outputs": [],
   "source": [
    "%matplotlib inline\n",
    "\n",
    "import os\n",
    "from collections import defaultdict\n",
    "import matplotlib.pyplot as plt\n",
    "import pandas as pd\n",
    "import re\n",
    "\n",
    "from sklearn.cross_validation import train_test_split\n",
    "from sklearn.feature_extraction.text import CountVectorizer\n",
    "from sklearn.naive_bayes import MultinomialNB\n",
    "from sklearn.metrics import accuracy_score\n",
    "from sklearn.metrics import classification_report\n",
    "from sklearn.metrics import confusion_matrix"
   ]
  },
  {
   "cell_type": "markdown",
   "metadata": {},
   "source": [
    "### Data Processing"
   ]
  },
  {
   "cell_type": "markdown",
   "metadata": {},
   "source": [
    "Process all the text articles related to different categories\n",
    "* bbcsport/\n",
    "    - athletics/\n",
    "    - cricket/\n",
    "    - football/\n",
    "    - tennis/\n",
    "    - rugby/"
   ]
  },
  {
   "cell_type": "code",
   "execution_count": 46,
   "metadata": {
    "collapsed": false
   },
   "outputs": [],
   "source": [
    "all_lines = defaultdict(list)\n",
    "rootdir = './bbcsport/'\n",
    "\n",
    "# read in all the files\n",
    "for subdir, dirs, files in os.walk(rootdir):\n",
    "    for file_ in files:\n",
    "        with open(os.path.join(subdir, file_), 'r') as f:\n",
    "            article_category = subdir.split('/')[-1]\n",
    "            curr_lines = f.readlines()\n",
    "            all_lines[article_category].append(curr_lines)\n",
    "\n",
    "# cleanup articles\n",
    "for article_category, related_articles in all_lines.iteritems():\n",
    "    for i in range(len(related_articles)):\n",
    "        related_articles[i] = filter(\n",
    "            None,\n",
    "            [sentence.strip() for sentence in related_articles[i]]\n",
    "        )\n",
    "    all_lines[article_category] = related_articles\n",
    "\n",
    "# create data strcture to eventually pass into a df\n",
    "article_category_mapping = defaultdict(str)\n",
    "for article_category, related_articles in all_lines.iteritems():\n",
    "    for i in range(len(related_articles)):\n",
    "        for lines in related_articles[i]:\n",
    "            article_category_mapping[lines] = article_category\n"
   ]
  },
  {
   "cell_type": "markdown",
   "metadata": {},
   "source": [
    "### Cleanup and Conversion"
   ]
  },
  {
   "cell_type": "markdown",
   "metadata": {},
   "source": [
    "* Remove unwanted special characters\n",
    "* Remove words containing numbers\n",
    "* Map the categories to numerical labels for analysis"
   ]
  },
  {
   "cell_type": "code",
   "execution_count": 47,
   "metadata": {
    "collapsed": false
   },
   "outputs": [],
   "source": [
    "# create the df using the pre populated dict\n",
    "article_category_df = pd.DataFrame(article_category_mapping.items(), columns=['line', 'category'])\n",
    "\n",
    "# remove special characters from the lines\n",
    "article_category_df['line'] = [\n",
    "    re.sub('[^A-Za-z0-9]+', ' ', line)\n",
    "    for line in article_category_df['line']\n",
    "]\n",
    "\n",
    "# remove all words containing digits. these words would add noise.\n",
    "article_category_df['line'] = [\n",
    "    ' '.join(s for s in line.split() if not any(c.isdigit() for c in s))\n",
    "    for line in article_category_df['line']\n",
    "]\n",
    "\n",
    "\n",
    "# map category to ints\n",
    "article_category_df['category_label'] = article_category_df.category.map({\n",
    "    'athletics': 0,\n",
    "    'cricket': 1,\n",
    "    'tennis': 2,\n",
    "    'rugby': 3,\n",
    "    'football': 4,\n",
    "})"
   ]
  },
  {
   "cell_type": "markdown",
   "metadata": {},
   "source": [
    "### Train + Test Sets"
   ]
  },
  {
   "cell_type": "code",
   "execution_count": 48,
   "metadata": {
    "collapsed": false
   },
   "outputs": [],
   "source": [
    "# break down into data and labels\n",
    "X = article_category_df.line\n",
    "y = article_category_df.category_label\n",
    "\n",
    "# train set and test set...\n",
    "X_train, X_test, y_train, y_test = train_test_split(X, y, random_state=1)"
   ]
  },
  {
   "cell_type": "code",
   "execution_count": 49,
   "metadata": {
    "collapsed": false
   },
   "outputs": [
    {
     "name": "stdout",
     "output_type": "stream",
     "text": [
      "X_train shape: (2925,)\n",
      "X_test shape: (975,)\n"
     ]
    }
   ],
   "source": [
    "print (\"X_train shape: \" + str(X_train.shape))\n",
    "print (\"X_test shape: \" + str(X_test.shape))"
   ]
  },
  {
   "cell_type": "markdown",
   "metadata": {},
   "source": [
    "### CountVectorizer"
   ]
  },
  {
   "cell_type": "markdown",
   "metadata": {},
   "source": [
    "The goal here is to make a [document term matrix](https://en.wikipedia.org/wiki/Document-term_matrix) from the training and test sets. "
   ]
  },
  {
   "cell_type": "code",
   "execution_count": 50,
   "metadata": {
    "collapsed": false
   },
   "outputs": [],
   "source": [
    "vect = CountVectorizer(stop_words='english')\n",
    "\n",
    "vect.fit(X_train)\n",
    "\n",
    "# convert the train and test set to a doc term matrix\n",
    "X_train_dtm = vect.transform(X_train)\n",
    "X_test_dtm = vect.transform(X_test)"
   ]
  },
  {
   "cell_type": "code",
   "execution_count": 51,
   "metadata": {
    "collapsed": false
   },
   "outputs": [
    {
     "data": {
      "text/plain": [
       "<2925x11093 sparse matrix of type '<type 'numpy.int64'>'\n",
       "\twith 79435 stored elements in Compressed Sparse Row format>"
      ]
     },
     "execution_count": 51,
     "metadata": {},
     "output_type": "execute_result"
    }
   ],
   "source": [
    "X_train_dtm"
   ]
  },
  {
   "cell_type": "code",
   "execution_count": 52,
   "metadata": {
    "collapsed": false
   },
   "outputs": [
    {
     "data": {
      "text/plain": [
       "<975x11093 sparse matrix of type '<type 'numpy.int64'>'\n",
       "\twith 24623 stored elements in Compressed Sparse Row format>"
      ]
     },
     "execution_count": 52,
     "metadata": {},
     "output_type": "execute_result"
    }
   ],
   "source": [
    "X_test_dtm"
   ]
  },
  {
   "cell_type": "markdown",
   "metadata": {},
   "source": [
    "### KDE\n"
   ]
  },
  {
   "cell_type": "code",
   "execution_count": 53,
   "metadata": {
    "collapsed": false
   },
   "outputs": [
    {
     "data": {
      "image/png": "[encoded data removed]",
      "text/plain": [
       "<matplotlib.figure.Figure at 0x110b439d0>"
      ]
     },
     "metadata": {},
     "output_type": "display_data"
    }
   ],
   "source": [
    "article_category_df[['category_label', 'line']].groupby('category_label').count().plot(kind='kde')\n",
    "plt.show()"
   ]
  },
  {
   "cell_type": "markdown",
   "metadata": {},
   "source": [
    "Seems like a fair enough distribution for the given number of classes (Sports Articles Categories). This should result in a viable accuracy."
   ]
  },
  {
   "cell_type": "markdown",
   "metadata": {},
   "source": [
    "### Multinomial Naive Bayes"
   ]
  },
  {
   "cell_type": "markdown",
   "metadata": {},
   "source": [
    "Looking at the dataset\n",
    "* It has multivalued and discrete labels for the sets\n",
    "* Frequency might be a better indicator than simple occurence (whether or not a term is present in a document)\n",
    "\n",
    "Thus, we will use [Multinomial Naive Bayes](https://en.wikipedia.org/wiki/Naive_Bayes_classifier#Multinomial_naive_Bayes)."
   ]
  },
  {
   "cell_type": "code",
   "execution_count": 54,
   "metadata": {
    "collapsed": false
   },
   "outputs": [
    {
     "data": {
      "text/plain": [
       "MultinomialNB(alpha=1.0, class_prior=None, fit_prior=True)"
      ]
     },
     "execution_count": 54,
     "metadata": {},
     "output_type": "execute_result"
    }
   ],
   "source": [
    "nb = MultinomialNB()\n",
    "\n",
    "nb.fit(X_train_dtm, y_train)"
   ]
  },
  {
   "cell_type": "code",
   "execution_count": 55,
   "metadata": {
    "collapsed": false
   },
   "outputs": [],
   "source": [
    "y_pred_class = nb.predict(X_test_dtm)"
   ]
  },
  {
   "cell_type": "markdown",
   "metadata": {},
   "source": [
    "### Prediction Results"
   ]
  },
  {
   "cell_type": "code",
   "execution_count": 56,
   "metadata": {
    "collapsed": false
   },
   "outputs": [
    {
     "data": {
      "text/plain": [
       "0.96410256410256412"
      ]
     },
     "execution_count": 56,
     "metadata": {},
     "output_type": "execute_result"
    }
   ],
   "source": [
    "accuracy_score(y_test, y_pred_class)"
   ]
  },
  {
   "cell_type": "code",
   "execution_count": 57,
   "metadata": {
    "collapsed": false
   },
   "outputs": [
    {
     "name": "stdout",
     "output_type": "stream",
     "text": [
      "             precision    recall  f1-score   support\n",
      "\n",
      "          0       0.98      0.95      0.97       127\n",
      "          1       0.98      0.94      0.96       189\n",
      "          2       0.99      0.94      0.97       119\n",
      "          3       0.93      0.99      0.96       184\n",
      "          4       0.96      0.98      0.97       356\n",
      "\n",
      "avg / total       0.97      0.96      0.96       975\n",
      "\n"
     ]
    }
   ],
   "source": [
    "print (classification_report(y_test, y_pred_class))"
   ]
  },
  {
   "cell_type": "code",
   "execution_count": 58,
   "metadata": {
    "collapsed": false
   },
   "outputs": [
    {
     "data": {
      "text/plain": [
       "array([[121,   0,   0,   2,   4],\n",
       "       [  0, 177,   1,   5,   6],\n",
       "       [  1,   0, 112,   3,   3],\n",
       "       [  0,   0,   0, 182,   2],\n",
       "       [  1,   3,   0,   4, 348]])"
      ]
     },
     "execution_count": 58,
     "metadata": {},
     "output_type": "execute_result"
    }
   ],
   "source": [
    "confusion_matrix(y_test, y_pred_class)"
   ]
  },
  {
   "cell_type": "code",
   "execution_count": 59,
   "metadata": {
    "collapsed": false
   },
   "outputs": [],
   "source": [
    "# check the predicted labels for test lines\n",
    "pred_df = pd.DataFrame()\n",
    "\n",
    "pred_df['line'] = X_test\n",
    "pred_df['label'] = y_pred_class\n",
    "\n",
    "# re-map the labels\n",
    "pred_df['label'] = pred_df.label.map({\n",
    "    4: 'football',\n",
    "    3: 'rugby',\n",
    "    2: 'tennis',\n",
    "    1: 'cricket',\n",
    "    0: 'athletics'  \n",
    "})"
   ]
  },
  {
   "cell_type": "code",
   "execution_count": 60,
   "metadata": {
    "collapsed": false
   },
   "outputs": [
    {
     "data": {
      "text/html": [
       "<div style=\"max-height:1000px;max-width:1500px;overflow:auto;\">\n",
       "<table border=\"1\" class=\"dataframe\">\n",
       "  <thead>\n",
       "    <tr style=\"text-align: right;\">\n",
       "      <th></th>\n",
       "      <th>line</th>\n",
       "      <th>label</th>\n",
       "    </tr>\n",
       "  </thead>\n",
       "  <tbody>\n",
       "    <tr>\n",
       "      <th>0</th>\n",
       "      <td> The American spent three days at the LTA s ann...</td>\n",
       "      <td>    tennis</td>\n",
       "    </tr>\n",
       "    <tr>\n",
       "      <th>1</th>\n",
       "      <td> Morton Moffat MacRae Hore Berthinussen Warnock...</td>\n",
       "      <td>     rugby</td>\n",
       "    </tr>\n",
       "    <tr>\n",
       "      <th>2</th>\n",
       "      <td>                           Pakistan slump in debut</td>\n",
       "      <td>   cricket</td>\n",
       "    </tr>\n",
       "    <tr>\n",
       "      <th>3</th>\n",
       "      <td> Kostas Kenteris and Katerina Thanou are yet to...</td>\n",
       "      <td> athletics</td>\n",
       "    </tr>\n",
       "    <tr>\n",
       "      <th>4</th>\n",
       "      <td>                 Cudicini misses Carling Cup final</td>\n",
       "      <td>  football</td>\n",
       "    </tr>\n",
       "  </tbody>\n",
       "</table>\n",
       "</div>"
      ],
      "text/plain": [
       "                                                line      label\n",
       "0  The American spent three days at the LTA s ann...     tennis\n",
       "1  Morton Moffat MacRae Hore Berthinussen Warnock...      rugby\n",
       "2                            Pakistan slump in debut    cricket\n",
       "3  Kostas Kenteris and Katerina Thanou are yet to...  athletics\n",
       "4                  Cudicini misses Carling Cup final   football"
      ]
     },
     "execution_count": 60,
     "metadata": {},
     "output_type": "execute_result"
    }
   ],
   "source": [
    "pred_df.head()"
   ]
  }
 ],
 "metadata": {
  "kernelspec": {
   "display_name": "Python 2",
   "language": "python",
   "name": "python2"
  },
  "language_info": {
   "codemirror_mode": {
    "name": "ipython",
    "version": 2
   },
   "file_extension": ".py",
   "mimetype": "text/x-python",
   "name": "python",
   "nbconvert_exporter": "python",
   "pygments_lexer": "ipython2",
   "version": "2.7.11"
  }
 },
 "nbformat": 4,
 "nbformat_minor": 0
}
